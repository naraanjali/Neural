{
 "cells": [
  {
   "cell_type": "markdown",
   "metadata": {},
   "source": [
    "Neural Networs Assignment 1\n",
    "Name: Anjali Nara\n",
    "Student ID: 700745071\n",
    "CRN: 22280"
   ]
  },
  {
   "cell_type": "code",
   "execution_count": 3,
   "metadata": {},
   "outputs": [
    {
     "name": "stdout",
     "output_type": "stream",
     "text": [
      "ntyp\n"
     ]
    }
   ],
   "source": [
    "#reads input\n",
    "s=input()\n",
    "l=list(s)\n",
    "# remove at least two characters\n",
    "l.remove('o');\n",
    "l.remove('h');\n",
    "#reverse the string\n",
    "l=l[::-1]\n",
    "#printing the output\n",
    "a=''\n",
    "for i in l:\n",
    "    a=a+i\n",
    "print(a)"
   ]
  },
  {
   "cell_type": "code",
   "execution_count": 4,
   "metadata": {},
   "outputs": [
    {
     "name": "stdout",
     "output_type": "stream",
     "text": [
      "1 5\n",
      "5\n",
      "6\n",
      "-4\n",
      "1\n"
     ]
    }
   ],
   "source": [
    "#reading two numbers\n",
    "a=int(input())\n",
    "b=int(input())\n",
    "\n",
    "print(a,b) #prints the input numbers\n",
    "#Below are 4 different arithmetic operations\n",
    "print(a*b)\n",
    "print(a+b)\n",
    "print(a-b)\n",
    "print(a%b)"
   ]
  },
  {
   "cell_type": "code",
   "execution_count": 5,
   "metadata": {},
   "outputs": [
    {
     "name": "stdout",
     "output_type": "stream",
     "text": [
      "pythons is pythons\n"
     ]
    }
   ],
   "source": [
    "#input string\n",
    "s=input()\n",
    "#replace occurance of python in the string with pythons\n",
    "print(s.replace('python','pythons'))\n",
    "     "
   ]
  },
  {
   "cell_type": "code",
   "execution_count": 6,
   "metadata": {},
   "outputs": [
    {
     "name": "stdout",
     "output_type": "stream",
     "text": [
      "your grade is C\n"
     ]
    }
   ],
   "source": [
    "#takes input between 1 and 100\n",
    "x=int(input(\"enter a value between 1 and 100: \"))\n",
    "if(x>90):\n",
    "    print(\"your grade is A\")\n",
    "elif(x<=90 and x>80):\n",
    "    print(\"your grade is B\")\n",
    "elif(x<=80 and x>70):\n",
    "    print(\"your grade is C\")\n",
    "elif(x<=70 and x>60):\n",
    "    print(\"your grade is D\")\n",
    "else:\n",
    "    print(\"your grade is F\")"
   ]
  }
 ],
 "metadata": {
  "kernelspec": {
   "display_name": "Python 3",
   "language": "python",
   "name": "python3"
  },
  "language_info": {
   "codemirror_mode": {
    "name": "ipython",
    "version": 3
   },
   "file_extension": ".py",
   "mimetype": "text/x-python",
   "name": "python",
   "nbconvert_exporter": "python",
   "pygments_lexer": "ipython3",
   "version": "3.11.5"
  }
 },
 "nbformat": 4,
 "nbformat_minor": 2
}
